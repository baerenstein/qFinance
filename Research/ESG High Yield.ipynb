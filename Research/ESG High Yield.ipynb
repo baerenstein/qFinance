{
 "cells": [
  {
   "attachments": {},
   "cell_type": "markdown",
   "metadata": {},
   "source": [
    "# Portfolio Analysis - DWS ESG Euro High Yield"
   ]
  },
  {
   "attachments": {},
   "cell_type": "markdown",
   "metadata": {},
   "source": [
    "## Introduction\n",
    "In this notebook I replicate and analyse the [DWS Invest ESG Euro High Yield](https://www.dws.de/rentenfonds/lu2111935651-dws-invest-esg-euro-high-yield-lc/) Portfolio, from here on ESG-EHY. For the portfolio construction I reduced the number of equities in our portfolio to six of the biggest positions, assume low risk apetite and weigh the equities accordingl to Markowitz Efficient Frontier Theory. Lastly, I will look at performance metrics such as return and drawdown as well as volatility and sharpe ratio."
   ]
  },
  {
   "attachments": {},
   "cell_type": "markdown",
   "metadata": {},
   "source": [
    "import libraries"
   ]
  },
  {
   "cell_type": "code",
   "execution_count": null,
   "metadata": {},
   "outputs": [],
   "source": [
    "import pandas as pd\n",
    "import numpy as np\n",
    "import matplotlib.pyplot as plt\n",
    "\n",
    "import yfinance as yf"
   ]
  },
  {
   "attachments": {},
   "cell_type": "markdown",
   "metadata": {},
   "source": [
    "fetch data"
   ]
  },
  {
   "cell_type": "code",
   "execution_count": null,
   "metadata": {},
   "outputs": [],
   "source": [
    "# list of equity tickers\n",
    "portfolio = [\"EDP.LS\", \"FRVIA.PA\", \"ISP.MI\", \"LHA.DE\", \"QTS.F\", 'TIT.MI']\n",
    "\n",
    "# Define the date range for historical data\n",
    "start_date = \"2028-01-01\"\n",
    "end_date = \"2023-01-01\"\n",
    "\n",
    "p = yf.download(portfolio, start=start_date, end=end_date)['Close']"
   ]
  },
  {
   "cell_type": "code",
   "execution_count": null,
   "metadata": {},
   "outputs": [],
   "source": []
  }
 ],
 "metadata": {
  "kernelspec": {
   "display_name": "research",
   "language": "python",
   "name": "python3"
  },
  "language_info": {
   "name": "python",
   "version": "3.11.3"
  },
  "orig_nbformat": 4
 },
 "nbformat": 4,
 "nbformat_minor": 2
}
